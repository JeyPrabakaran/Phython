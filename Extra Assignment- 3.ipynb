{
 "cells": [
  {
   "cell_type": "code",
   "execution_count": 2,
   "metadata": {},
   "outputs": [
    {
     "name": "stdout",
     "output_type": "stream",
     "text": [
      "Enter the Value: 10\n",
      "value:  10\n",
      "Correct\n"
     ]
    }
   ],
   "source": [
    "value=int(input('Enter the Value: '))\n",
    "print('value: ',value)\n",
    "if(value==10):\n",
    "    print('Correct')"
   ]
  },
  {
   "cell_type": "code",
   "execution_count": 6,
   "metadata": {},
   "outputs": [
    {
     "name": "stdout",
     "output_type": "stream",
     "text": [
      "Enter the Password: HOPE@123\n",
      "Your password is correct\n"
     ]
    }
   ],
   "source": [
    "password=str(input('Enter the Password: '))\n",
    "if(len(password)!=0):\n",
    "    if(password=='HOPE@123'):\n",
    "        print('Your password is correct')\n",
    "    else:\n",
    "            print('Your password is wrong')\n",
    "else:\n",
    "    print('Password should not be empty')\n",
    "            \n",
    "            \n"
   ]
  },
  {
   "cell_type": "code",
   "execution_count": 8,
   "metadata": {},
   "outputs": [
    {
     "name": "stdout",
     "output_type": "stream",
     "text": [
      "Enter the Age: 20\n",
      "20\n",
      "Adult\n"
     ]
    }
   ],
   "source": [
    "age=int(input('Enter the Age: '))\n",
    "print(age)\n",
    "if(age<=12):\n",
    "    print('Children')\n",
    "elif(age<=39):\n",
    "    print('Adult')\n",
    "elif(age<=49):\n",
    "    print('Citizen')\n",
    "else:\n",
    "    print('Senior Citizen')\n"
   ]
  },
  {
   "cell_type": "code",
   "execution_count": 13,
   "metadata": {},
   "outputs": [
    {
     "name": "stdout",
     "output_type": "stream",
     "text": [
      "Enter any number:1\n",
      "Number is Positive\n"
     ]
    }
   ],
   "source": [
    "number=int(input('Enter any number:'))\n",
    "if(number>=0):\n",
    "    if(number==0):\n",
    "        print('Number is Zero')\n",
    "    else:\n",
    "        print('Number is Positive')\n",
    "    \n",
    "else:\n",
    "    print('Number is Negative')"
   ]
  },
  {
   "cell_type": "code",
   "execution_count": 17,
   "metadata": {},
   "outputs": [
    {
     "name": "stdout",
     "output_type": "stream",
     "text": [
      "Enter a Number to check22\n",
      "No is not divisible by 5\n"
     ]
    }
   ],
   "source": [
    "number=int(input('Enter a Number to check'))\n",
    "if(number>0):\n",
    "    if(number%5==0):\n",
    "        print('No is divisible by 5')\n",
    "    else:\n",
    "        print('No is not divisible by 5')\n",
    "else:\n",
    "    print('Number should be greater than Zero')\n"
   ]
  },
  {
   "cell_type": "code",
   "execution_count": null,
   "metadata": {},
   "outputs": [],
   "source": []
  }
 ],
 "metadata": {
  "kernelspec": {
   "display_name": "Python 3",
   "language": "python",
   "name": "python3"
  },
  "language_info": {
   "codemirror_mode": {
    "name": "ipython",
    "version": 3
   },
   "file_extension": ".py",
   "mimetype": "text/x-python",
   "name": "python",
   "nbconvert_exporter": "python",
   "pygments_lexer": "ipython3",
   "version": "3.7.4"
  }
 },
 "nbformat": 4,
 "nbformat_minor": 2
}
