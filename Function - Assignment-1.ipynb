{
 "cells": [
  {
   "cell_type": "code",
   "execution_count": 1,
   "metadata": {},
   "outputs": [
    {
     "name": "stdout",
     "output_type": "stream",
     "text": [
      "Sub-Fields in AI are: \n",
      "Machine Learning\n",
      "Neural Networks\n",
      "Vision\n",
      "Robotics\n",
      "Speech Processing\n",
      "Natural Language Processong\n"
     ]
    }
   ],
   "source": [
    "class SubfieldsinAI:\n",
    "    def Subfileds():\n",
    "        sublist=['Machine Learning','Neural Networks', 'Vision','Robotics','Speech Processing', 'Natural Language Processong']\n",
    "        print('Sub-Fields in AI are: ')\n",
    "        for a in sublist:\n",
    "            print(a)\n",
    "SubfieldsinAI.Subfileds()            \n",
    "            \n",
    "            "
   ]
  },
  {
   "cell_type": "code",
   "execution_count": 3,
   "metadata": {},
   "outputs": [
    {
     "name": "stdout",
     "output_type": "stream",
     "text": [
      "Enter a Number52452\n",
      "52452 is even number\n"
     ]
    }
   ],
   "source": [
    "class OddEven:\n",
    "    def oddEven():\n",
    "        number=int(input('Enter a Number'))\n",
    "        if(number%2==0):\n",
    "            print(number,'is even number')\n",
    "        else:\n",
    "            print(number,'is odd number')\n",
    "OddEven.oddEven()            \n",
    "        \n",
    "    "
   ]
  },
  {
   "cell_type": "code",
   "execution_count": 17,
   "metadata": {},
   "outputs": [
    {
     "name": "stdout",
     "output_type": "stream",
     "text": [
      "Enter gender: Male\n",
      "Enter age: 20\n",
      "\n",
      " Your Gender:  Male \n",
      " Your Age:  20 \n",
      " NOT ELIGIBLE\n"
     ]
    }
   ],
   "source": [
    "class EligibilityForMarriage():\n",
    "    def Eligible():\n",
    "        gender=str(input('Enter gender: '))\n",
    "        age=int(input('Enter age: '))\n",
    "       \n",
    "        if(gender=='Male' and age>=21):\n",
    "            print('\\n','Your Gender: ', gender,'\\n','Your Age: ',age,'\\n', 'Eligible')\n",
    "        elif(gender=='Female' and age>=18):\n",
    "            print('\\n','Your Gender: ', gender,'\\n','Your Age: ',age,'\\n', 'Eligible')\n",
    "        else:\n",
    "            print('\\n','Your Gender: ', gender,'\\n','Your Age: ',age,'\\n', 'NOT ELIGIBLE')\n",
    "EligibilityForMarriage.Eligible()    \n",
    "    "
   ]
  },
  {
   "cell_type": "code",
   "execution_count": 13,
   "metadata": {},
   "outputs": [
    {
     "name": "stdout",
     "output_type": "stream",
     "text": [
      "Enter the number of Subjects5\n",
      "Enter Subject 1 Mark\n",
      "98\n",
      "Enter Subject 2 Mark\n",
      "87\n",
      "Enter Subject 3 Mark\n",
      "95\n",
      "Enter Subject 4 Mark\n",
      "95\n",
      "Enter Subject 5 Mark\n",
      "93\n",
      "Subject 1 = 98\n",
      "Subject 2 = 87\n",
      "Subject 3 = 95\n",
      "Subject 4 = 95\n",
      "Subject 5 = 93\n",
      "Total :  468\n",
      "Percentage:  93.6\n"
     ]
    }
   ],
   "source": [
    "class FindPercentage():\n",
    "    \n",
    "\n",
    "    def percentage():\n",
    "        listMark=[]\n",
    "        totMark=0\n",
    "        totSubjects=int(input('Enter the number of Subjects'))\n",
    "        for a in range(totSubjects):\n",
    "            print('Enter Subject',a+1,'Mark')\n",
    "            listMark.insert(a,int(input()))\n",
    "            totMark=totMark+listMark[a]\n",
    "        for b in range(totSubjects):\n",
    "            print('Subject',b+1,'=',listMark[b])\n",
    "        \n",
    "        print('Total : ',totMark)\n",
    "        percentage=totMark/totSubjects\n",
    "        print('Percentage: ',percentage)\n",
    "FindPercentage.percentage()        \n",
    "            "
   ]
  },
  {
   "cell_type": "code",
   "execution_count": 38,
   "metadata": {},
   "outputs": [
    {
     "name": "stdout",
     "output_type": "stream",
     "text": [
      "Enter the Triangle Height: 32\n",
      "Enter the Breadth of Triangle: 34\n",
      "Enter the Triangle Height1: 2\n",
      "Enter the Triangle Height2: 4\n",
      "Enter the Breadth of Triangle: 4\n",
      "Area Formula:(Height*Breadth/2)\n",
      "Area of Triangle:  544.0\n",
      "Perimeter formula:Height1+Height2+Breadth\n",
      "Perimeter of Triangle:  10\n"
     ]
    }
   ],
   "source": [
    "class triangle():\n",
    "    \n",
    "    def areatriangle(Height,Breadth):\n",
    "        print('Area Formula:(Height*Breadth/2)')\n",
    "        areaTriangle=(Height*Breadth/2)\n",
    "        print('Area of Triangle: ',areaTriangle)\n",
    "             \n",
    "    def perimetertriangle(Height1,Height2,Breadth2):\n",
    "        print('Perimeter formula:Height1+Height2+Breadth')\n",
    "        perimeter=Height1+Height2+Breadth2\n",
    "        print('Perimeter of Triangle: ',perimeter)  \n",
    "Height=int(input('Enter the Triangle Height: '))\n",
    "Breadth=int(input('Enter the Breadth of Triangle: '))\n",
    "Height1=int(input('Enter the Triangle Height1: '))\n",
    "Height2=int(input('Enter the Triangle Height2: '))\n",
    "Breadth2=int(input('Enter the Breadth of Triangle: '))\n",
    "triangle.areatriangle(Height,Breadth)      \n",
    "triangle.perimetertriangle(Height1,Height2,Breadth2)        \n",
    "  \n",
    "\n",
    "\n",
    "        \n",
    "        "
   ]
  },
  {
   "cell_type": "code",
   "execution_count": null,
   "metadata": {},
   "outputs": [],
   "source": []
  }
 ],
 "metadata": {
  "kernelspec": {
   "display_name": "Python 3",
   "language": "python",
   "name": "python3"
  },
  "language_info": {
   "codemirror_mode": {
    "name": "ipython",
    "version": 3
   },
   "file_extension": ".py",
   "mimetype": "text/x-python",
   "name": "python",
   "nbconvert_exporter": "python",
   "pygments_lexer": "ipython3",
   "version": "3.7.4"
  }
 },
 "nbformat": 4,
 "nbformat_minor": 2
}
