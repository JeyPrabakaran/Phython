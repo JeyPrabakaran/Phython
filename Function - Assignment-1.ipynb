{
 "cells": [
  {
   "cell_type": "code",
   "execution_count": 1,
   "metadata": {},
   "outputs": [
    {
     "name": "stdout",
     "output_type": "stream",
     "text": [
      "Sub-Fields in AI are: \n",
      "Machine Learning\n",
      "Neural Networks\n",
      "Vision\n",
      "Robotics\n",
      "Speech Processing\n",
      "Natural Language Processong\n"
     ]
    }
   ],
   "source": [
    "class SubfieldsinAI:\n",
    "    def Subfileds():\n",
    "        sublist=['Machine Learning','Neural Networks', 'Vision','Robotics','Speech Processing', 'Natural Language Processong']\n",
    "        print('Sub-Fields in AI are: ')\n",
    "        for a in sublist:\n",
    "            print(a)\n",
    "SubfieldsinAI.Subfileds()            \n",
    "            \n",
    "            "
   ]
  },
  {
   "cell_type": "code",
   "execution_count": 3,
   "metadata": {},
   "outputs": [
    {
     "name": "stdout",
     "output_type": "stream",
     "text": [
      "Enter a Number52452\n",
      "52452 is even number\n"
     ]
    }
   ],
   "source": [
    "class OddEven:\n",
    "    def oddEven():\n",
    "        number=int(input('Enter a Number'))\n",
    "        if(number%2==0):\n",
    "            print(number,'is even number')\n",
    "        else:\n",
    "            print(number,'is odd number')\n",
    "OddEven.oddEven()            \n",
    "        \n",
    "    "
   ]
  },
  {
   "cell_type": "code",
   "execution_count": 17,
   "metadata": {},
   "outputs": [
    {
     "name": "stdout",
     "output_type": "stream",
     "text": [
      "Enter gender: Male\n",
      "Enter age: 20\n",
      "\n",
      " Your Gender:  Male \n",
      " Your Age:  20 \n",
      " NOT ELIGIBLE\n"
     ]
    }
   ],
   "source": [
    "class EligibilityForMarriage():\n",
    "    def Eligible():\n",
    "        gender=str(input('Enter gender: '))\n",
    "        age=int(input('Enter age: '))\n",
    "       \n",
    "        if(gender=='Male' and age>=21):\n",
    "            print('\\n','Your Gender: ', gender,'\\n','Your Age: ',age,'\\n', 'Eligible')\n",
    "        elif(gender=='Female' and age>=18):\n",
    "            print('\\n','Your Gender: ', gender,'\\n','Your Age: ',age,'\\n', 'Eligible')\n",
    "        else:\n",
    "            print('\\n','Your Gender: ', gender,'\\n','Your Age: ',age,'\\n', 'NOT ELIGIBLE')\n",
    "EligibilityForMarriage.Eligible()    \n",
    "    "
   ]
  },
  {
   "cell_type": "code",
   "execution_count": 13,
   "metadata": {},
   "outputs": [
    {
     "name": "stdout",
     "output_type": "stream",
     "text": [
      "Enter the number of Subjects5\n",
      "Enter Subject 1 Mark\n",
      "98\n",
      "Enter Subject 2 Mark\n",
      "87\n",
      "Enter Subject 3 Mark\n",
      "95\n",
      "Enter Subject 4 Mark\n",
      "95\n",
      "Enter Subject 5 Mark\n",
      "93\n",
      "Subject 1 = 98\n",
      "Subject 2 = 87\n",
      "Subject 3 = 95\n",
      "Subject 4 = 95\n",
      "Subject 5 = 93\n",
      "Total :  468\n",
      "Percentage:  93.6\n"
     ]
    }
   ],
   "source": [
    "class FindPercentage():\n",
    "    \n",
    "\n",
    "    def percentage():\n",
    "        listMark=[]\n",
    "        totMark=0\n",
    "        totSubjects=int(input('Enter the number of Subjects'))\n",
    "        for a in range(totSubjects):\n",
    "            print('Enter Subject',a+1,'Mark')\n",
    "            listMark.insert(a,int(input()))\n",
    "            totMark=totMark+listMark[a]\n",
    "        for b in range(totSubjects):\n",
    "            print('Subject',b+1,'=',listMark[b])\n",
    "        \n",
    "        print('Total : ',totMark)\n",
    "        percentage=totMark/totSubjects\n",
    "        print('Percentage: ',percentage)\n",
    "FindPercentage.percentage()        \n",
    "            "
   ]
  },
  {
   "cell_type": "code",
   "execution_count": 38,
   "metadata": {},
   "outputs": [
    {
     "name": "stdout",
     "output_type": "stream",
     "text": [
      "Enter the Triangle Height: 32\n",
      "Enter the Breadth of Triangle: 34\n",
      "Enter the Triangle Height1: 2\n",
      "Enter the Triangle Height2: 4\n",
      "Enter the Breadth of Triangle: 4\n",
      "Area Formula:(Height*Breadth/2)\n",
      "Area of Triangle:  544.0\n",
      "Perimeter formula:Height1+Height2+Breadth\n",
      "Perimeter of Triangle:  10\n"
     ]
    }
   ],
   "source": [
    "class triangle():\n",
    "    \n",
    "    def areatriangle(Height,Breadth):\n",
    "        print('Area Formula:(Height*Breadth/2)')\n",
    "        areaTriangle=(Height*Breadth/2)\n",
    "        print('Area of Triangle: ',areaTriangle)\n",
    "             \n",
    "    def perimetertriangle(Height1,Height2,Breadth2):\n",
    "        print('Perimeter formula:Height1+Height2+Breadth')\n",
    "        perimeter=Height1+Height2+Breadth2\n",
    "        print('Perimeter of Triangle: ',perimeter)  \n",
    "Height=int(input('Enter the Triangle Height: '))\n",
    "Breadth=int(input('Enter the Breadth of Triangle: '))\n",
    "Height1=int(input('Enter the Triangle Height1: '))\n",
    "Height2=int(input('Enter the Triangle Height2: '))\n",
    "Breadth2=int(input('Enter the Breadth of Triangle: '))\n",
    "triangle.areatriangle(Height,Breadth)      \n",
    "triangle.perimetertriangle(Height1,Height2,Breadth2)        \n",
    "  \n",
    "\n",
    "\n",
    "        \n",
    "        "
   ]
  },
  {
   "cell_type": "code",
   "execution_count": 50,
   "metadata": {},
   "outputs": [
    {
     "name": "stdout",
     "output_type": "stream",
     "text": [
      "Enter Subject1 Mark: 98\n",
      "Enter Subject2 Mark: 87\n",
      "Enter Subject3 Mark: 95\n",
      "Enter Subject4 Mark: 95\n",
      "Enter Subject5 Mark: 93\n",
      "\n",
      " Subject1= 98 \n",
      " Subject2= 87 \n",
      " Subject3= 95 \n",
      " Subject4= 95 \n",
      " Subject5= 93\n",
      "\n",
      " Total= 468 \n",
      " Percentage= 93.6\n"
     ]
    }
   ],
   "source": [
    "class FindPercent():\n",
    "    def percentage():\n",
    "        Subject1=int(input('Enter Subject1 Mark: '))\n",
    "        Subject2=int(input('Enter Subject2 Mark: '))\n",
    "        Subject3=int(input('Enter Subject3 Mark: '))\n",
    "        Subject4=int(input('Enter Subject4 Mark: '))\n",
    "        Subject5=int(input('Enter Subject5 Mark: '))\n",
    "        Total=(Subject1+Subject2+Subject3+Subject4+Subject5)\n",
    "        Percentage=Total/5\n",
    "        print('\\n','Subject1=',Subject1,'\\n','Subject2=',Subject2,'\\n','Subject3=',Subject3,'\\n','Subject4=',Subject4,'\\n','Subject5=',Subject5)\n",
    "        print('\\n','Total=',Total,'\\n','Percentage=',Percentage)\n",
    "FindPercent.percentage()        \n",
    "        "
   ]
  },
  {
   "cell_type": "code",
   "execution_count": 48,
   "metadata": {},
   "outputs": [
    {
     "name": "stdout",
     "output_type": "stream",
     "text": [
      "Enter Gender: Male\n",
      "Enter Age: 20\n",
      "\n",
      " Your Gender:  Male \n",
      " Your Age:  20 \n",
      " Not Eligible\n"
     ]
    }
   ],
   "source": [
    "class EligibilityforMarriage():\n",
    "    def Eligible():\n",
    "        Gender=str(input('Enter Gender: '))\n",
    "        Age=int(input('Enter Age: '))\n",
    "        if(Gender=='Male'):\n",
    "            if(Age>=21):\n",
    "                print('\\n','Your Gender: ',Gender,'\\n','Your Age: ',Age,'\\n','Eligible')\n",
    "            else:\n",
    "                 print('\\n','Your Gender: ',Gender,'\\n','Your Age: ',Age,'\\n','Not Eligible')\n",
    "        elif(Gender=='Female'):\n",
    "            if(Age>=18):\n",
    "                 print('\\n','Your Gender: ',Gender,'\\n','Your Age: ',Age,'\\n','Eligible')\n",
    "            else:\n",
    "                print('\\n','Your Gender: ',Gender,'\\n','Your Age: ',Age,'\\n','Not Eligible')\n",
    "EligibilityforMarriage.Eligible()            \n",
    "            \n",
    "            \n",
    "            "
   ]
  },
  {
   "cell_type": "code",
   "execution_count": 59,
   "metadata": {},
   "outputs": [
    {
     "name": "stdout",
     "output_type": "stream",
     "text": [
      "Enter Subject1 Mark: 98\n",
      "Enter Subject2 Mark: 87\n",
      "Enter Subject3 Mark: 95\n",
      "Enter Subject4 Mark: 95\n",
      "Enter Subject5 Mark: 93\n",
      "Subject 1 = 98\n",
      "Subject 2 = 87\n",
      "Subject 3 = 95\n",
      "Subject 4 = 95\n",
      "Subject 5 = 93\n",
      "\n",
      " Total= 468 \n",
      " Percentage= 93.6\n"
     ]
    }
   ],
   "source": [
    "class FindPercent():\n",
    "    def percentage(Subjects):\n",
    "        count=0\n",
    "        Total=0\n",
    "        for a in Subjects:\n",
    "            count=count+1\n",
    "            print('Subject',count,'=',a)\n",
    "            Total=Total+a\n",
    "        \n",
    "        return Total           \n",
    "Subject1=int(input('Enter Subject1 Mark: '))\n",
    "Subject2=int(input('Enter Subject2 Mark: '))\n",
    "Subject3=int(input('Enter Subject3 Mark: '))\n",
    "Subject4=int(input('Enter Subject4 Mark: '))\n",
    "Subject5=int(input('Enter Subject5 Mark: ')) \n",
    "subList=[Subject1,Subject2,Subject3,Subject4,Subject5]\n",
    "totMark=FindPercent.percentage(subList)\n",
    "print('\\n','Total=',totMark,'\\n','Percentage=',totMark/len(subList))\n"
   ]
  },
  {
   "cell_type": "code",
   "execution_count": 63,
   "metadata": {},
   "outputs": [
    {
     "name": "stdout",
     "output_type": "stream",
     "text": [
      "Enter Gender: Female\n",
      "Enter Age: 17\n",
      "\n",
      " Your Gender:  Female \n",
      " Your Age:  17 \n",
      " Not Eligible\n"
     ]
    }
   ],
   "source": [
    "class EligibilityforMarriage():\n",
    "    def Eligible(gender,age):\n",
    "        \n",
    "        if(gender=='Male'):\n",
    "            if(age>=21):\n",
    "                message='Eligible'\n",
    "            else:\n",
    "                message='Not Eligible'\n",
    "        elif(gender=='Female'):\n",
    "            if(age>=18):\n",
    "                message='Eligible'        \n",
    "            else:\n",
    "                message='Not Eligible'\n",
    "              \n",
    "        return message       \n",
    "Gender=str(input('Enter Gender: '))\n",
    "Age=int(input('Enter Age: '))                \n",
    "EC=EligibilityforMarriage.Eligible(Gender,Age) \n",
    "print('\\n','Your Gender: ',Gender,'\\n','Your Age: ',Age,'\\n',EC)"
   ]
  },
  {
   "cell_type": "code",
   "execution_count": null,
   "metadata": {},
   "outputs": [],
   "source": []
  }
 ],
 "metadata": {
  "kernelspec": {
   "display_name": "Python 3",
   "language": "python",
   "name": "python3"
  },
  "language_info": {
   "codemirror_mode": {
    "name": "ipython",
    "version": 3
   },
   "file_extension": ".py",
   "mimetype": "text/x-python",
   "name": "python",
   "nbconvert_exporter": "python",
   "pygments_lexer": "ipython3",
   "version": "3.7.4"
  }
 },
 "nbformat": 4,
 "nbformat_minor": 2
}
