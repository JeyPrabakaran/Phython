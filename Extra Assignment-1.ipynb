{
 "cells": [
  {
   "cell_type": "code",
   "execution_count": 1,
   "metadata": {},
   "outputs": [
    {
     "name": "stdout",
     "output_type": "stream",
     "text": [
      "HOPE AI\n"
     ]
    }
   ],
   "source": [
    "print(\"HOPE AI\")"
   ]
  },
  {
   "cell_type": "code",
   "execution_count": 2,
   "metadata": {},
   "outputs": [
    {
     "name": "stdout",
     "output_type": "stream",
     "text": [
      "Enter your institute Name? :HOPE AI\n"
     ]
    },
    {
     "data": {
      "text/plain": [
       "'HOPE AI'"
      ]
     },
     "execution_count": 2,
     "metadata": {},
     "output_type": "execute_result"
    }
   ],
   "source": [
    "str(input(\"Enter your institute Name? :\"))"
   ]
  },
  {
   "cell_type": "code",
   "execution_count": 15,
   "metadata": {},
   "outputs": [
    {
     "name": "stdout",
     "output_type": "stream",
     "text": [
      "Enter your Name: Prabakaran J\n",
      "Enter your age: 40\n",
      "Enter your School Name: St. Antony's High School\n",
      "Enter your Degree: B.E. CSE\n"
     ]
    }
   ],
   "source": [
    "insName=str(input(\"Enter your Name: \"))\n",
    "stuName=int(input(\"Enter your age: \"))\n",
    "schName=str(input(\"Enter your School Name: \"))\n",
    "stuDegree=str(input(\"Enter your Degree: \"))"
   ]
  },
  {
   "cell_type": "code",
   "execution_count": 2,
   "metadata": {},
   "outputs": [
    {
     "name": "stdout",
     "output_type": "stream",
     "text": [
      "Enter a: 43\n",
      "Enter b: 34\n",
      "a=  43 \n",
      "b=  34 \n",
      " Add=  77\n"
     ]
    }
   ],
   "source": [
    "a=int(input(\"Enter a: \"))\n",
    "b=int(input(\"Enter b: \"))\n",
    "Add=a+b\n",
    "print(\"a= \",a,'\\n'\"b= \",b,'\\n',\"Add= \",Add)\n"
   ]
  },
  {
   "cell_type": "code",
   "execution_count": 3,
   "metadata": {},
   "outputs": [
    {
     "name": "stdout",
     "output_type": "stream",
     "text": [
      "Enter a: 43\n",
      "Enter b: 34\n",
      "a=  43 \n",
      "b=  34 \n",
      " Sub=  9\n"
     ]
    }
   ],
   "source": [
    "a=int(input(\"Enter a: \"))\n",
    "b=int(input(\"Enter b: \"))\n",
    "Sub=a-b\n",
    "print(\"a= \",a,'\\n'\"b= \",b,'\\n',\"Sub= \",Sub)"
   ]
  },
  {
   "cell_type": "code",
   "execution_count": 4,
   "metadata": {},
   "outputs": [
    {
     "name": "stdout",
     "output_type": "stream",
     "text": [
      "Enter a: 63\n",
      "Enter b: 97\n",
      "a=  63 \n",
      "b=  97 \n",
      " Mul=  6111\n"
     ]
    }
   ],
   "source": [
    "a=int(input(\"Enter a: \"))\n",
    "b=int(input(\"Enter b: \"))\n",
    "Mul=a*b\n",
    "print(\"a= \",a,'\\n'\"b= \",b,'\\n',\"Mul= \",Mul)"
   ]
  },
  {
   "cell_type": "code",
   "execution_count": 5,
   "metadata": {},
   "outputs": [
    {
     "name": "stdout",
     "output_type": "stream",
     "text": [
      "Enter a: 76\n",
      "Enter b: 31\n",
      "a=  76 \n",
      "b=  31 \n",
      " Float div=  2.4516129032258065\n"
     ]
    }
   ],
   "source": [
    "a=int(input(\"Enter a: \"))\n",
    "b=int(input(\"Enter b: \"))\n",
    "floatDiv=a/b\n",
    "print(\"a= \",a,'\\n'\"b= \",b,'\\n',\"Float div= \",floatDiv)"
   ]
  },
  {
   "cell_type": "code",
   "execution_count": 6,
   "metadata": {},
   "outputs": [
    {
     "name": "stdout",
     "output_type": "stream",
     "text": [
      "Enter a: 76\n",
      "Enter b: 31\n",
      "a=  76 \n",
      "b=  31 \n",
      " Floor div=  2\n"
     ]
    }
   ],
   "source": [
    "a=int(input(\"Enter a: \"))\n",
    "b=int(input(\"Enter b: \"))\n",
    "floorDiv=a//b\n",
    "print(\"a= \",a,'\\n'\"b= \",b,'\\n',\"Floor div= \",floorDiv)"
   ]
  },
  {
   "cell_type": "code",
   "execution_count": 7,
   "metadata": {},
   "outputs": [
    {
     "name": "stdout",
     "output_type": "stream",
     "text": [
      "Enter a: 76\n",
      "Enter b: 31\n",
      "a=  76 \n",
      "b=  31 \n",
      " Modulo=  14\n"
     ]
    }
   ],
   "source": [
    "a=int(input(\"Enter a: \"))\n",
    "b=int(input(\"Enter b: \"))\n",
    "Modulo=a%b\n",
    "print(\"a= \",a,'\\n'\"b= \",b,'\\n',\"Modulo= \",Modulo)"
   ]
  },
  {
   "cell_type": "code",
   "execution_count": 8,
   "metadata": {},
   "outputs": [
    {
     "name": "stdout",
     "output_type": "stream",
     "text": [
      "Enter a: 4\n",
      "Enter b: 4\n",
      "a=  4 \n",
      "b=  4 \n",
      " Power=  256\n"
     ]
    }
   ],
   "source": [
    "a=int(input(\"Enter a: \"))\n",
    "b=int(input(\"Enter b: \"))\n",
    "Power=a**b\n",
    "print(\"a= \",a,'\\n'\"b= \",b,'\\n',\"Power= \",Power)"
   ]
  },
  {
   "cell_type": "code",
   "execution_count": null,
   "metadata": {},
   "outputs": [],
   "source": []
  }
 ],
 "metadata": {
  "kernelspec": {
   "display_name": "Python 3",
   "language": "python",
   "name": "python3"
  },
  "language_info": {
   "codemirror_mode": {
    "name": "ipython",
    "version": 3
   },
   "file_extension": ".py",
   "mimetype": "text/x-python",
   "name": "python",
   "nbconvert_exporter": "python",
   "pygments_lexer": "ipython3",
   "version": "3.7.4"
  }
 },
 "nbformat": 4,
 "nbformat_minor": 2
}
